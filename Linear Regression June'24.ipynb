{
 "cells": [
  {
   "cell_type": "code",
   "execution_count": 1,
   "id": "cdeca5c4",
   "metadata": {},
   "outputs": [],
   "source": [
    "import numpy as np\n",
    "import pandas as pd\n",
    "import matplotlib.pyplot as plt"
   ]
  },
  {
   "cell_type": "code",
   "execution_count": 2,
   "id": "086ae196",
   "metadata": {},
   "outputs": [],
   "source": [
    "data=pd.read_csv(r\"D:\\Py\\Colab Work\\ML\\Linear Regression\\new_insurance_data.csv\")"
   ]
  },
  {
   "cell_type": "code",
   "execution_count": 3,
   "id": "e9f949b9",
   "metadata": {},
   "outputs": [
    {
     "data": {
      "text/html": [
       "<div>\n",
       "<style scoped>\n",
       "    .dataframe tbody tr th:only-of-type {\n",
       "        vertical-align: middle;\n",
       "    }\n",
       "\n",
       "    .dataframe tbody tr th {\n",
       "        vertical-align: top;\n",
       "    }\n",
       "\n",
       "    .dataframe thead th {\n",
       "        text-align: right;\n",
       "    }\n",
       "</style>\n",
       "<table border=\"1\" class=\"dataframe\">\n",
       "  <thead>\n",
       "    <tr style=\"text-align: right;\">\n",
       "      <th></th>\n",
       "      <th>age</th>\n",
       "      <th>sex</th>\n",
       "      <th>bmi</th>\n",
       "      <th>children</th>\n",
       "      <th>smoker</th>\n",
       "      <th>Claim_Amount</th>\n",
       "      <th>past_consultations</th>\n",
       "      <th>num_of_steps</th>\n",
       "      <th>Hospital_expenditure</th>\n",
       "      <th>NUmber_of_past_hospitalizations</th>\n",
       "      <th>Anual_Salary</th>\n",
       "      <th>region</th>\n",
       "      <th>charges</th>\n",
       "    </tr>\n",
       "  </thead>\n",
       "  <tbody>\n",
       "    <tr>\n",
       "      <th>0</th>\n",
       "      <td>18.0</td>\n",
       "      <td>male</td>\n",
       "      <td>23.21</td>\n",
       "      <td>0.0</td>\n",
       "      <td>no</td>\n",
       "      <td>29087.54313</td>\n",
       "      <td>17.0</td>\n",
       "      <td>715428.0</td>\n",
       "      <td>4720920.992</td>\n",
       "      <td>0.0</td>\n",
       "      <td>55784970.05</td>\n",
       "      <td>southeast</td>\n",
       "      <td>1121.8739</td>\n",
       "    </tr>\n",
       "    <tr>\n",
       "      <th>1</th>\n",
       "      <td>18.0</td>\n",
       "      <td>male</td>\n",
       "      <td>30.14</td>\n",
       "      <td>0.0</td>\n",
       "      <td>no</td>\n",
       "      <td>39053.67437</td>\n",
       "      <td>7.0</td>\n",
       "      <td>699157.0</td>\n",
       "      <td>4329831.676</td>\n",
       "      <td>0.0</td>\n",
       "      <td>13700885.19</td>\n",
       "      <td>southeast</td>\n",
       "      <td>1131.5066</td>\n",
       "    </tr>\n",
       "    <tr>\n",
       "      <th>2</th>\n",
       "      <td>18.0</td>\n",
       "      <td>male</td>\n",
       "      <td>33.33</td>\n",
       "      <td>0.0</td>\n",
       "      <td>no</td>\n",
       "      <td>39023.62759</td>\n",
       "      <td>19.0</td>\n",
       "      <td>702341.0</td>\n",
       "      <td>6884860.774</td>\n",
       "      <td>0.0</td>\n",
       "      <td>73523107.27</td>\n",
       "      <td>southeast</td>\n",
       "      <td>1135.9407</td>\n",
       "    </tr>\n",
       "    <tr>\n",
       "      <th>3</th>\n",
       "      <td>18.0</td>\n",
       "      <td>male</td>\n",
       "      <td>33.66</td>\n",
       "      <td>0.0</td>\n",
       "      <td>no</td>\n",
       "      <td>28185.39332</td>\n",
       "      <td>11.0</td>\n",
       "      <td>700250.0</td>\n",
       "      <td>4274773.550</td>\n",
       "      <td>0.0</td>\n",
       "      <td>75819679.60</td>\n",
       "      <td>southeast</td>\n",
       "      <td>1136.3994</td>\n",
       "    </tr>\n",
       "    <tr>\n",
       "      <th>4</th>\n",
       "      <td>18.0</td>\n",
       "      <td>male</td>\n",
       "      <td>34.10</td>\n",
       "      <td>0.0</td>\n",
       "      <td>no</td>\n",
       "      <td>14697.85941</td>\n",
       "      <td>16.0</td>\n",
       "      <td>711584.0</td>\n",
       "      <td>3787293.921</td>\n",
       "      <td>0.0</td>\n",
       "      <td>23012320.01</td>\n",
       "      <td>southeast</td>\n",
       "      <td>1137.0110</td>\n",
       "    </tr>\n",
       "  </tbody>\n",
       "</table>\n",
       "</div>"
      ],
      "text/plain": [
       "    age   sex    bmi  children smoker  Claim_Amount  past_consultations  \\\n",
       "0  18.0  male  23.21       0.0     no   29087.54313                17.0   \n",
       "1  18.0  male  30.14       0.0     no   39053.67437                 7.0   \n",
       "2  18.0  male  33.33       0.0     no   39023.62759                19.0   \n",
       "3  18.0  male  33.66       0.0     no   28185.39332                11.0   \n",
       "4  18.0  male  34.10       0.0     no   14697.85941                16.0   \n",
       "\n",
       "   num_of_steps  Hospital_expenditure  NUmber_of_past_hospitalizations  \\\n",
       "0      715428.0           4720920.992                              0.0   \n",
       "1      699157.0           4329831.676                              0.0   \n",
       "2      702341.0           6884860.774                              0.0   \n",
       "3      700250.0           4274773.550                              0.0   \n",
       "4      711584.0           3787293.921                              0.0   \n",
       "\n",
       "   Anual_Salary     region    charges  \n",
       "0   55784970.05  southeast  1121.8739  \n",
       "1   13700885.19  southeast  1131.5066  \n",
       "2   73523107.27  southeast  1135.9407  \n",
       "3   75819679.60  southeast  1136.3994  \n",
       "4   23012320.01  southeast  1137.0110  "
      ]
     },
     "execution_count": 3,
     "metadata": {},
     "output_type": "execute_result"
    }
   ],
   "source": [
    "data.head()"
   ]
  },
  {
   "cell_type": "code",
   "execution_count": 4,
   "id": "a38f13ab",
   "metadata": {},
   "outputs": [
    {
     "data": {
      "text/html": [
       "<div>\n",
       "<style scoped>\n",
       "    .dataframe tbody tr th:only-of-type {\n",
       "        vertical-align: middle;\n",
       "    }\n",
       "\n",
       "    .dataframe tbody tr th {\n",
       "        vertical-align: top;\n",
       "    }\n",
       "\n",
       "    .dataframe thead th {\n",
       "        text-align: right;\n",
       "    }\n",
       "</style>\n",
       "<table border=\"1\" class=\"dataframe\">\n",
       "  <thead>\n",
       "    <tr style=\"text-align: right;\">\n",
       "      <th></th>\n",
       "      <th>age</th>\n",
       "      <th>sex</th>\n",
       "      <th>bmi</th>\n",
       "      <th>children</th>\n",
       "      <th>smoker</th>\n",
       "      <th>Claim_Amount</th>\n",
       "      <th>past_consultations</th>\n",
       "      <th>num_of_steps</th>\n",
       "      <th>Hospital_expenditure</th>\n",
       "      <th>NUmber_of_past_hospitalizations</th>\n",
       "      <th>Anual_Salary</th>\n",
       "      <th>region</th>\n",
       "      <th>charges</th>\n",
       "    </tr>\n",
       "  </thead>\n",
       "  <tbody>\n",
       "    <tr>\n",
       "      <th>1333</th>\n",
       "      <td>33.0</td>\n",
       "      <td>female</td>\n",
       "      <td>35.530</td>\n",
       "      <td>0.0</td>\n",
       "      <td>yes</td>\n",
       "      <td>63142.25346</td>\n",
       "      <td>32.0</td>\n",
       "      <td>1091267.0</td>\n",
       "      <td>170380500.5</td>\n",
       "      <td>2.0</td>\n",
       "      <td>3.101107e+09</td>\n",
       "      <td>northwest</td>\n",
       "      <td>55135.40209</td>\n",
       "    </tr>\n",
       "    <tr>\n",
       "      <th>1334</th>\n",
       "      <td>31.0</td>\n",
       "      <td>female</td>\n",
       "      <td>38.095</td>\n",
       "      <td>1.0</td>\n",
       "      <td>yes</td>\n",
       "      <td>43419.95227</td>\n",
       "      <td>31.0</td>\n",
       "      <td>1107872.0</td>\n",
       "      <td>201515184.8</td>\n",
       "      <td>2.0</td>\n",
       "      <td>3.484216e+09</td>\n",
       "      <td>northeast</td>\n",
       "      <td>58571.07448</td>\n",
       "    </tr>\n",
       "    <tr>\n",
       "      <th>1335</th>\n",
       "      <td>52.0</td>\n",
       "      <td>male</td>\n",
       "      <td>34.485</td>\n",
       "      <td>3.0</td>\n",
       "      <td>yes</td>\n",
       "      <td>52458.92353</td>\n",
       "      <td>25.0</td>\n",
       "      <td>1092005.0</td>\n",
       "      <td>223644981.3</td>\n",
       "      <td>2.0</td>\n",
       "      <td>3.640807e+09</td>\n",
       "      <td>northwest</td>\n",
       "      <td>60021.39897</td>\n",
       "    </tr>\n",
       "    <tr>\n",
       "      <th>1336</th>\n",
       "      <td>45.0</td>\n",
       "      <td>male</td>\n",
       "      <td>30.360</td>\n",
       "      <td>0.0</td>\n",
       "      <td>yes</td>\n",
       "      <td>69927.51664</td>\n",
       "      <td>34.0</td>\n",
       "      <td>1106821.0</td>\n",
       "      <td>252892382.6</td>\n",
       "      <td>3.0</td>\n",
       "      <td>4.006359e+09</td>\n",
       "      <td>southeast</td>\n",
       "      <td>62592.87309</td>\n",
       "    </tr>\n",
       "    <tr>\n",
       "      <th>1337</th>\n",
       "      <td>54.0</td>\n",
       "      <td>female</td>\n",
       "      <td>47.410</td>\n",
       "      <td>0.0</td>\n",
       "      <td>yes</td>\n",
       "      <td>63982.80926</td>\n",
       "      <td>31.0</td>\n",
       "      <td>1100328.0</td>\n",
       "      <td>261631699.3</td>\n",
       "      <td>3.0</td>\n",
       "      <td>4.117197e+09</td>\n",
       "      <td>southeast</td>\n",
       "      <td>63770.42801</td>\n",
       "    </tr>\n",
       "  </tbody>\n",
       "</table>\n",
       "</div>"
      ],
      "text/plain": [
       "       age     sex     bmi  children smoker  Claim_Amount  past_consultations  \\\n",
       "1333  33.0  female  35.530       0.0    yes   63142.25346                32.0   \n",
       "1334  31.0  female  38.095       1.0    yes   43419.95227                31.0   \n",
       "1335  52.0    male  34.485       3.0    yes   52458.92353                25.0   \n",
       "1336  45.0    male  30.360       0.0    yes   69927.51664                34.0   \n",
       "1337  54.0  female  47.410       0.0    yes   63982.80926                31.0   \n",
       "\n",
       "      num_of_steps  Hospital_expenditure  NUmber_of_past_hospitalizations  \\\n",
       "1333     1091267.0           170380500.5                              2.0   \n",
       "1334     1107872.0           201515184.8                              2.0   \n",
       "1335     1092005.0           223644981.3                              2.0   \n",
       "1336     1106821.0           252892382.6                              3.0   \n",
       "1337     1100328.0           261631699.3                              3.0   \n",
       "\n",
       "      Anual_Salary     region      charges  \n",
       "1333  3.101107e+09  northwest  55135.40209  \n",
       "1334  3.484216e+09  northeast  58571.07448  \n",
       "1335  3.640807e+09  northwest  60021.39897  \n",
       "1336  4.006359e+09  southeast  62592.87309  \n",
       "1337  4.117197e+09  southeast  63770.42801  "
      ]
     },
     "execution_count": 4,
     "metadata": {},
     "output_type": "execute_result"
    }
   ],
   "source": [
    "data.tail()"
   ]
  },
  {
   "cell_type": "code",
   "execution_count": 5,
   "id": "827b58b4",
   "metadata": {},
   "outputs": [
    {
     "data": {
      "text/html": [
       "<div>\n",
       "<style scoped>\n",
       "    .dataframe tbody tr th:only-of-type {\n",
       "        vertical-align: middle;\n",
       "    }\n",
       "\n",
       "    .dataframe tbody tr th {\n",
       "        vertical-align: top;\n",
       "    }\n",
       "\n",
       "    .dataframe thead th {\n",
       "        text-align: right;\n",
       "    }\n",
       "</style>\n",
       "<table border=\"1\" class=\"dataframe\">\n",
       "  <thead>\n",
       "    <tr style=\"text-align: right;\">\n",
       "      <th></th>\n",
       "      <th>age</th>\n",
       "      <th>bmi</th>\n",
       "      <th>children</th>\n",
       "      <th>Claim_Amount</th>\n",
       "      <th>past_consultations</th>\n",
       "      <th>num_of_steps</th>\n",
       "      <th>Hospital_expenditure</th>\n",
       "      <th>NUmber_of_past_hospitalizations</th>\n",
       "      <th>Anual_Salary</th>\n",
       "      <th>charges</th>\n",
       "    </tr>\n",
       "  </thead>\n",
       "  <tbody>\n",
       "    <tr>\n",
       "      <th>count</th>\n",
       "      <td>1329.000000</td>\n",
       "      <td>1335.000000</td>\n",
       "      <td>1333.000000</td>\n",
       "      <td>1324.000000</td>\n",
       "      <td>1332.000000</td>\n",
       "      <td>1.335000e+03</td>\n",
       "      <td>1.334000e+03</td>\n",
       "      <td>1336.000000</td>\n",
       "      <td>1.332000e+03</td>\n",
       "      <td>1338.000000</td>\n",
       "    </tr>\n",
       "    <tr>\n",
       "      <th>mean</th>\n",
       "      <td>39.310008</td>\n",
       "      <td>30.665112</td>\n",
       "      <td>1.090773</td>\n",
       "      <td>33361.327180</td>\n",
       "      <td>15.216216</td>\n",
       "      <td>9.100047e+05</td>\n",
       "      <td>1.584179e+07</td>\n",
       "      <td>1.060629</td>\n",
       "      <td>3.696849e+08</td>\n",
       "      <td>13270.422265</td>\n",
       "    </tr>\n",
       "    <tr>\n",
       "      <th>std</th>\n",
       "      <td>14.034818</td>\n",
       "      <td>6.101690</td>\n",
       "      <td>1.201856</td>\n",
       "      <td>15617.288337</td>\n",
       "      <td>7.467723</td>\n",
       "      <td>9.188612e+04</td>\n",
       "      <td>2.669305e+07</td>\n",
       "      <td>0.533583</td>\n",
       "      <td>5.668843e+08</td>\n",
       "      <td>12110.011237</td>\n",
       "    </tr>\n",
       "    <tr>\n",
       "      <th>min</th>\n",
       "      <td>18.000000</td>\n",
       "      <td>15.960000</td>\n",
       "      <td>0.000000</td>\n",
       "      <td>1920.136268</td>\n",
       "      <td>1.000000</td>\n",
       "      <td>6.954300e+05</td>\n",
       "      <td>2.945253e+04</td>\n",
       "      <td>0.000000</td>\n",
       "      <td>2.747072e+06</td>\n",
       "      <td>1121.873900</td>\n",
       "    </tr>\n",
       "    <tr>\n",
       "      <th>25%</th>\n",
       "      <td>27.000000</td>\n",
       "      <td>26.302500</td>\n",
       "      <td>0.000000</td>\n",
       "      <td>20768.860390</td>\n",
       "      <td>9.000000</td>\n",
       "      <td>8.471995e+05</td>\n",
       "      <td>4.077633e+06</td>\n",
       "      <td>1.000000</td>\n",
       "      <td>7.701932e+07</td>\n",
       "      <td>4740.287150</td>\n",
       "    </tr>\n",
       "    <tr>\n",
       "      <th>50%</th>\n",
       "      <td>39.000000</td>\n",
       "      <td>30.400000</td>\n",
       "      <td>1.000000</td>\n",
       "      <td>33700.310675</td>\n",
       "      <td>15.000000</td>\n",
       "      <td>9.143000e+05</td>\n",
       "      <td>7.490337e+06</td>\n",
       "      <td>1.000000</td>\n",
       "      <td>1.419361e+08</td>\n",
       "      <td>9382.033000</td>\n",
       "    </tr>\n",
       "    <tr>\n",
       "      <th>75%</th>\n",
       "      <td>51.000000</td>\n",
       "      <td>34.687500</td>\n",
       "      <td>2.000000</td>\n",
       "      <td>45052.331957</td>\n",
       "      <td>20.000000</td>\n",
       "      <td>9.716840e+05</td>\n",
       "      <td>1.084082e+07</td>\n",
       "      <td>1.000000</td>\n",
       "      <td>3.243499e+08</td>\n",
       "      <td>16639.912515</td>\n",
       "    </tr>\n",
       "    <tr>\n",
       "      <th>max</th>\n",
       "      <td>64.000000</td>\n",
       "      <td>53.130000</td>\n",
       "      <td>5.000000</td>\n",
       "      <td>77277.988480</td>\n",
       "      <td>40.000000</td>\n",
       "      <td>1.107872e+06</td>\n",
       "      <td>2.616317e+08</td>\n",
       "      <td>3.000000</td>\n",
       "      <td>4.117197e+09</td>\n",
       "      <td>63770.428010</td>\n",
       "    </tr>\n",
       "  </tbody>\n",
       "</table>\n",
       "</div>"
      ],
      "text/plain": [
       "               age          bmi     children  Claim_Amount  \\\n",
       "count  1329.000000  1335.000000  1333.000000   1324.000000   \n",
       "mean     39.310008    30.665112     1.090773  33361.327180   \n",
       "std      14.034818     6.101690     1.201856  15617.288337   \n",
       "min      18.000000    15.960000     0.000000   1920.136268   \n",
       "25%      27.000000    26.302500     0.000000  20768.860390   \n",
       "50%      39.000000    30.400000     1.000000  33700.310675   \n",
       "75%      51.000000    34.687500     2.000000  45052.331957   \n",
       "max      64.000000    53.130000     5.000000  77277.988480   \n",
       "\n",
       "       past_consultations  num_of_steps  Hospital_expenditure  \\\n",
       "count         1332.000000  1.335000e+03          1.334000e+03   \n",
       "mean            15.216216  9.100047e+05          1.584179e+07   \n",
       "std              7.467723  9.188612e+04          2.669305e+07   \n",
       "min              1.000000  6.954300e+05          2.945253e+04   \n",
       "25%              9.000000  8.471995e+05          4.077633e+06   \n",
       "50%             15.000000  9.143000e+05          7.490337e+06   \n",
       "75%             20.000000  9.716840e+05          1.084082e+07   \n",
       "max             40.000000  1.107872e+06          2.616317e+08   \n",
       "\n",
       "       NUmber_of_past_hospitalizations  Anual_Salary       charges  \n",
       "count                      1336.000000  1.332000e+03   1338.000000  \n",
       "mean                          1.060629  3.696849e+08  13270.422265  \n",
       "std                           0.533583  5.668843e+08  12110.011237  \n",
       "min                           0.000000  2.747072e+06   1121.873900  \n",
       "25%                           1.000000  7.701932e+07   4740.287150  \n",
       "50%                           1.000000  1.419361e+08   9382.033000  \n",
       "75%                           1.000000  3.243499e+08  16639.912515  \n",
       "max                           3.000000  4.117197e+09  63770.428010  "
      ]
     },
     "execution_count": 5,
     "metadata": {},
     "output_type": "execute_result"
    }
   ],
   "source": [
    "data.describe()"
   ]
  },
  {
   "cell_type": "code",
   "execution_count": 6,
   "id": "7edb3095",
   "metadata": {},
   "outputs": [
    {
     "data": {
      "text/plain": [
       "age                                1329\n",
       "sex                                1338\n",
       "bmi                                1335\n",
       "children                           1333\n",
       "smoker                             1338\n",
       "Claim_Amount                       1324\n",
       "past_consultations                 1332\n",
       "num_of_steps                       1335\n",
       "Hospital_expenditure               1334\n",
       "NUmber_of_past_hospitalizations    1336\n",
       "Anual_Salary                       1332\n",
       "region                             1338\n",
       "charges                            1338\n",
       "dtype: int64"
      ]
     },
     "execution_count": 6,
     "metadata": {},
     "output_type": "execute_result"
    }
   ],
   "source": [
    "data.count()"
   ]
  },
  {
   "cell_type": "code",
   "execution_count": 7,
   "id": "ec4258cf",
   "metadata": {},
   "outputs": [],
   "source": [
    "# data=data.dropna()"
   ]
  },
  {
   "cell_type": "code",
   "execution_count": 8,
   "id": "2bb4205e",
   "metadata": {},
   "outputs": [
    {
     "data": {
      "text/plain": [
       "age                                1329\n",
       "sex                                1338\n",
       "bmi                                1335\n",
       "children                           1333\n",
       "smoker                             1338\n",
       "Claim_Amount                       1324\n",
       "past_consultations                 1332\n",
       "num_of_steps                       1335\n",
       "Hospital_expenditure               1334\n",
       "NUmber_of_past_hospitalizations    1336\n",
       "Anual_Salary                       1332\n",
       "region                             1338\n",
       "charges                            1338\n",
       "dtype: int64"
      ]
     },
     "execution_count": 8,
     "metadata": {},
     "output_type": "execute_result"
    }
   ],
   "source": [
    "data.count()"
   ]
  },
  {
   "cell_type": "code",
   "execution_count": null,
   "id": "b478375b",
   "metadata": {},
   "outputs": [],
   "source": []
  },
  {
   "cell_type": "code",
   "execution_count": 9,
   "id": "959dba4e",
   "metadata": {},
   "outputs": [
    {
     "name": "stdout",
     "output_type": "stream",
     "text": [
      "<class 'pandas.core.frame.DataFrame'>\n",
      "RangeIndex: 1338 entries, 0 to 1337\n",
      "Data columns (total 13 columns):\n",
      " #   Column                           Non-Null Count  Dtype  \n",
      "---  ------                           --------------  -----  \n",
      " 0   age                              1329 non-null   float64\n",
      " 1   sex                              1338 non-null   object \n",
      " 2   bmi                              1335 non-null   float64\n",
      " 3   children                         1333 non-null   float64\n",
      " 4   smoker                           1338 non-null   object \n",
      " 5   Claim_Amount                     1324 non-null   float64\n",
      " 6   past_consultations               1332 non-null   float64\n",
      " 7   num_of_steps                     1335 non-null   float64\n",
      " 8   Hospital_expenditure             1334 non-null   float64\n",
      " 9   NUmber_of_past_hospitalizations  1336 non-null   float64\n",
      " 10  Anual_Salary                     1332 non-null   float64\n",
      " 11  region                           1338 non-null   object \n",
      " 12  charges                          1338 non-null   float64\n",
      "dtypes: float64(10), object(3)\n",
      "memory usage: 136.0+ KB\n"
     ]
    }
   ],
   "source": [
    "data.info()"
   ]
  },
  {
   "cell_type": "code",
   "execution_count": 10,
   "id": "f4c6539c",
   "metadata": {},
   "outputs": [
    {
     "data": {
      "text/plain": [
       "age                                 9\n",
       "sex                                 0\n",
       "bmi                                 3\n",
       "children                            5\n",
       "smoker                              0\n",
       "Claim_Amount                       14\n",
       "past_consultations                  6\n",
       "num_of_steps                        3\n",
       "Hospital_expenditure                4\n",
       "NUmber_of_past_hospitalizations     2\n",
       "Anual_Salary                        6\n",
       "region                              0\n",
       "charges                             0\n",
       "dtype: int64"
      ]
     },
     "execution_count": 10,
     "metadata": {},
     "output_type": "execute_result"
    }
   ],
   "source": [
    "data.isnull().sum()"
   ]
  },
  {
   "cell_type": "code",
   "execution_count": 11,
   "id": "5015dab2",
   "metadata": {},
   "outputs": [
    {
     "data": {
      "text/plain": [
       "'southeast'"
      ]
     },
     "execution_count": 11,
     "metadata": {},
     "output_type": "execute_result"
    }
   ],
   "source": [
    "data[\"region\"].mode()[0]"
   ]
  },
  {
   "cell_type": "code",
   "execution_count": 12,
   "id": "a86aa21a",
   "metadata": {},
   "outputs": [
    {
     "data": {
      "text/plain": [
       "Index(['age', 'sex', 'bmi', 'children', 'smoker', 'Claim_Amount',\n",
       "       'past_consultations', 'num_of_steps', 'Hospital_expenditure',\n",
       "       'NUmber_of_past_hospitalizations', 'Anual_Salary', 'region', 'charges'],\n",
       "      dtype='object')"
      ]
     },
     "execution_count": 12,
     "metadata": {},
     "output_type": "execute_result"
    }
   ],
   "source": [
    "# EDA\n",
    "col=[]\n",
    "col=data.columns\n",
    "col"
   ]
  },
  {
   "cell_type": "code",
   "execution_count": 13,
   "id": "fa7dd7d9",
   "metadata": {},
   "outputs": [],
   "source": [
    "for i in col:\n",
    "    if data[i].dtypes==\"int64\" or data[i].dtypes==\"float\":\n",
    "        data[i]=data[i].fillna(data[i].mean())\n",
    "    else:\n",
    "        data[i]=data[i].fillna(data[i].mode()[0])\n",
    "        \n",
    "    "
   ]
  },
  {
   "cell_type": "code",
   "execution_count": 14,
   "id": "8312a3e1",
   "metadata": {},
   "outputs": [
    {
     "data": {
      "text/plain": [
       "age                                1338\n",
       "sex                                1338\n",
       "bmi                                1338\n",
       "children                           1338\n",
       "smoker                             1338\n",
       "Claim_Amount                       1338\n",
       "past_consultations                 1338\n",
       "num_of_steps                       1338\n",
       "Hospital_expenditure               1338\n",
       "NUmber_of_past_hospitalizations    1338\n",
       "Anual_Salary                       1338\n",
       "region                             1338\n",
       "charges                            1338\n",
       "dtype: int64"
      ]
     },
     "execution_count": 14,
     "metadata": {},
     "output_type": "execute_result"
    }
   ],
   "source": [
    "data.count()"
   ]
  },
  {
   "cell_type": "code",
   "execution_count": 15,
   "id": "774a40c2",
   "metadata": {},
   "outputs": [
    {
     "data": {
      "text/plain": [
       "Text(0.5, 0, 'bmi')"
      ]
     },
     "execution_count": 15,
     "metadata": {},
     "output_type": "execute_result"
    },
    {
     "data": {
      "image/png": "[encoded data removed]",
      "text/plain": [
       "<Figure size 432x288 with 1 Axes>"
      ]
     },
     "metadata": {
      "needs_background": "light"
     },
     "output_type": "display_data"
    }
   ],
   "source": [
    "plt.boxplot(data[\"bmi\"])\n",
    "plt.xlabel(\"bmi\")"
   ]
  },
  {
   "cell_type": "code",
   "execution_count": 16,
   "id": "04c54f60",
   "metadata": {},
   "outputs": [
    {
     "data": {
      "image/png": "[encoded data removed]",
      "text/plain": [
       "<Figure size 432x288 with 1 Axes>"
      ]
     },
     "metadata": {
      "needs_background": "light"
     },
     "output_type": "display_data"
    },
    {
     "data": {
      "image/png": "[encoded data removed]",
      "text/plain": [
       "<Figure size 432x288 with 1 Axes>"
      ]
     },
     "metadata": {
      "needs_background": "light"
     },
     "output_type": "display_data"
    },
    {
     "data": {
      "image/png": "[encoded data removed]",
      "text/plain": [
       "<Figure size 432x288 with 1 Axes>"
      ]
     },
     "metadata": {
      "needs_background": "light"
     },
     "output_type": "display_data"
    },
    {
     "data": {
      "image/png": "[encoded data removed]",
      "text/plain": [
       "<Figure size 432x288 with 1 Axes>"
      ]
     },
     "metadata": {
      "needs_background": "light"
     },
     "output_type": "display_data"
    },
    {
     "data": {
      "image/png": "[encoded data removed]",
      "text/plain": [
       "<Figure size 432x288 with 1 Axes>"
      ]
     },
     "metadata": {
      "needs_background": "light"
     },
     "output_type": "display_data"
    },
    {
     "data": {
      "image/png": "[encoded data removed]",
      "text/plain": [
       "<Figure size 432x288 with 1 Axes>"
      ]
     },
     "metadata": {
      "needs_background": "light"
     },
     "output_type": "display_data"
    },
    {
     "data": {
      "image/png": "[encoded data removed]",
      "text/plain": [
       "<Figure size 432x288 with 1 Axes>"
      ]
     },
     "metadata": {
      "needs_background": "light"
     },
     "output_type": "display_data"
    },
    {
     "data": {
      "image/png": "[encoded data removed]",
      "text/plain": [
       "<Figure size 432x288 with 1 Axes>"
      ]
     },
     "metadata": {
      "needs_background": "light"
     },
     "output_type": "display_data"
    },
    {
     "data": {
      "image/png": "[encoded data removed]",
      "text/plain": [
       "<Figure size 432x288 with 1 Axes>"
      ]
     },
     "metadata": {
      "needs_background": "light"
     },
     "output_type": "display_data"
    },
    {
     "data": {
      "image/png": "[encoded data removed]",
      "text/plain": [
       "<Figure size 432x288 with 1 Axes>"
      ]
     },
     "metadata": {
      "needs_background": "light"
     },
     "output_type": "display_data"
    }
   ],
   "source": [
    "for i in col:\n",
    "    if data[i].dtypes!='object':\n",
    "        plt.boxplot(data[i])\n",
    "        plt.xlabel(i)\n",
    "        plt.show()"
   ]
  },
  {
   "cell_type": "code",
   "execution_count": 17,
   "id": "ac67eeaf",
   "metadata": {},
   "outputs": [],
   "source": [
    "q1=data[\"bmi\"].quantile(0.25) \n",
    "q3=data[\"bmi\"].quantile(0.75)\n",
    "IQR=q3-q1\n",
    "UL=q3+IQR*1.5\n",
    "LL=q1-IQR*1.5\n",
    "data=data[(data[\"bmi\"]>=LL) & (data[\"bmi\"]<=UL)]\n",
    "\n",
    "q1=data[\"past_consultations\"].quantile(0.25)\n",
    "q3=data[\"past_consultations\"].quantile(0.75)\n",
    "IQR=q3-q1\n",
    "UL=q3+IQR*1.5\n",
    "LL=q1-IQR*1.5\n",
    "data=data[(data[\"past_consultations\"]>=LL) & (data[\"past_consultations\"]<=UL)]\n",
    "\n",
    "q1=data[\"Hospital_expenditure\"].quantile(0.25)\n",
    "q3=data[\"Hospital_expenditure\"].quantile(0.75)\n",
    "IQR=q3-q1\n",
    "UL=q3+IQR*1.5\n",
    "LL=q1-IQR*1.5\n",
    "data=data[(data[\"Hospital_expenditure\"]>=LL) & (data[\"Hospital_expenditure\"]<=UL)]\n",
    "\n",
    "q1=data[\"NUmber_of_past_hospitalizations\"].quantile(0.25) \n",
    "q3=data[\"NUmber_of_past_hospitalizations\"].quantile(0.75)\n",
    "IQR=q3-q1\n",
    "UL=q3+IQR*1.5\n",
    "LL=q1-IQR*1.5\n",
    "data=data[(data[\"NUmber_of_past_hospitalizations\"]>=LL) & (data[\"NUmber_of_past_hospitalizations\"]<=UL)]\n",
    "\n",
    "q1=data[\"Anual_Salary\"].quantile(0.25)  \n",
    "q3=data[\"Anual_Salary\"].quantile(0.75)\n",
    "IQR=q3-q1\n",
    "UL=q3+IQR*1.5\n",
    "LL=q1-IQR*1.5\n",
    "data=data[(data[\"Anual_Salary\"]>=LL) & (data[\"Anual_Salary\"]<=UL)]\n",
    "\n",
    "q1=data[\"charges\"].quantile(0.25)  \n",
    "q3=data[\"charges\"].quantile(0.75)\n",
    "IQR=q3-q1\n",
    "UL=q3+IQR*1.5\n",
    "LL=q1-IQR*1.5\n",
    "data=data[(data[\"charges\"]>=LL) & (data[\"charges\"]<=UL)]\n"
   ]
  },
  {
   "cell_type": "code",
   "execution_count": 18,
   "id": "97575514",
   "metadata": {},
   "outputs": [
    {
     "data": {
      "text/plain": [
       "age                                881\n",
       "sex                                881\n",
       "bmi                                881\n",
       "children                           881\n",
       "smoker                             881\n",
       "Claim_Amount                       881\n",
       "past_consultations                 881\n",
       "num_of_steps                       881\n",
       "Hospital_expenditure               881\n",
       "NUmber_of_past_hospitalizations    881\n",
       "Anual_Salary                       881\n",
       "region                             881\n",
       "charges                            881\n",
       "dtype: int64"
      ]
     },
     "execution_count": 18,
     "metadata": {},
     "output_type": "execute_result"
    }
   ],
   "source": [
    "data.count()"
   ]
  },
  {
   "cell_type": "code",
   "execution_count": 19,
   "id": "83541ccf",
   "metadata": {},
   "outputs": [
    {
     "data": {
      "image/png": "[encoded data removed]",
      "text/plain": [
       "<Figure size 432x288 with 1 Axes>"
      ]
     },
     "metadata": {
      "needs_background": "light"
     },
     "output_type": "display_data"
    },
    {
     "data": {
      "image/png": "[encoded data removed]",
      "text/plain": [
       "<Figure size 432x288 with 1 Axes>"
      ]
     },
     "metadata": {
      "needs_background": "light"
     },
     "output_type": "display_data"
    },
    {
     "data": {
      "image/png": "[encoded data removed]",
      "text/plain": [
       "<Figure size 432x288 with 1 Axes>"
      ]
     },
     "metadata": {
      "needs_background": "light"
     },
     "output_type": "display_data"
    },
    {
     "data": {
      "image/png": "[encoded data removed]",
      "text/plain": [
       "<Figure size 432x288 with 1 Axes>"
      ]
     },
     "metadata": {
      "needs_background": "light"
     },
     "output_type": "display_data"
    },
    {
     "data": {
      "image/png": "[encoded data removed]",
      "text/plain": [
       "<Figure size 432x288 with 1 Axes>"
      ]
     },
     "metadata": {
      "needs_background": "light"
     },
     "output_type": "display_data"
    },
    {
     "data": {
      "image/png": "[encoded data removed]",
      "text/plain": [
       "<Figure size 432x288 with 1 Axes>"
      ]
     },
     "metadata": {
      "needs_background": "light"
     },
     "output_type": "display_data"
    },
    {
     "data": {
      "image/png": "[encoded data removed]",
      "text/plain": [
       "<Figure size 432x288 with 1 Axes>"
      ]
     },
     "metadata": {
      "needs_background": "light"
     },
     "output_type": "display_data"
    },
    {
     "data": {
      "image/png": "[encoded data removed]",
      "text/plain": [
       "<Figure size 432x288 with 1 Axes>"
      ]
     },
     "metadata": {
      "needs_background": "light"
     },
     "output_type": "display_data"
    },
    {
     "data": {
      "image/png": "[encoded data removed]",
      "text/plain": [
       "<Figure size 432x288 with 1 Axes>"
      ]
     },
     "metadata": {
      "needs_background": "light"
     },
     "output_type": "display_data"
    },
    {
     "data": {
      "image/png": "[encoded data removed]",
      "text/plain": [
       "<Figure size 432x288 with 1 Axes>"
      ]
     },
     "metadata": {
      "needs_background": "light"
     },
     "output_type": "display_data"
    }
   ],
   "source": [
    "for i in col:\n",
    "    if data[i].dtypes!='object':\n",
    "        plt.boxplot(data[i])\n",
    "        plt.xlabel(i)\n",
    "        plt.show()"
   ]
  },
  {
   "cell_type": "markdown",
   "id": "a0fb35ca",
   "metadata": {},
   "source": [
    "# MODEL BUILDING"
   ]
  },
  {
   "cell_type": "code",
   "execution_count": 20,
   "id": "b7fd28d2",
   "metadata": {},
   "outputs": [],
   "source": [
    "from sklearn.linear_model import LinearRegression"
   ]
  },
  {
   "cell_type": "code",
   "execution_count": 21,
   "id": "24f475e3",
   "metadata": {},
   "outputs": [],
   "source": [
    "from sklearn.model_selection import train_test_split"
   ]
  },
  {
   "cell_type": "code",
   "execution_count": 22,
   "id": "d6a35427",
   "metadata": {},
   "outputs": [
    {
     "data": {
      "text/html": [
       "<div>\n",
       "<style scoped>\n",
       "    .dataframe tbody tr th:only-of-type {\n",
       "        vertical-align: middle;\n",
       "    }\n",
       "\n",
       "    .dataframe tbody tr th {\n",
       "        vertical-align: top;\n",
       "    }\n",
       "\n",
       "    .dataframe thead th {\n",
       "        text-align: right;\n",
       "    }\n",
       "</style>\n",
       "<table border=\"1\" class=\"dataframe\">\n",
       "  <thead>\n",
       "    <tr style=\"text-align: right;\">\n",
       "      <th></th>\n",
       "      <th>age</th>\n",
       "      <th>bmi</th>\n",
       "      <th>children</th>\n",
       "      <th>Claim_Amount</th>\n",
       "      <th>past_consultations</th>\n",
       "      <th>num_of_steps</th>\n",
       "      <th>Hospital_expenditure</th>\n",
       "      <th>NUmber_of_past_hospitalizations</th>\n",
       "      <th>Anual_Salary</th>\n",
       "      <th>charges</th>\n",
       "    </tr>\n",
       "  </thead>\n",
       "  <tbody>\n",
       "    <tr>\n",
       "      <th>age</th>\n",
       "      <td>1.000000</td>\n",
       "      <td>0.184327</td>\n",
       "      <td>-0.149521</td>\n",
       "      <td>0.070468</td>\n",
       "      <td>0.129324</td>\n",
       "      <td>0.649893</td>\n",
       "      <td>0.120945</td>\n",
       "      <td>NaN</td>\n",
       "      <td>0.400155</td>\n",
       "      <td>0.553349</td>\n",
       "    </tr>\n",
       "    <tr>\n",
       "      <th>bmi</th>\n",
       "      <td>0.184327</td>\n",
       "      <td>1.000000</td>\n",
       "      <td>0.004529</td>\n",
       "      <td>-0.007295</td>\n",
       "      <td>-0.014772</td>\n",
       "      <td>0.033153</td>\n",
       "      <td>0.005874</td>\n",
       "      <td>NaN</td>\n",
       "      <td>-0.010409</td>\n",
       "      <td>-0.000971</td>\n",
       "    </tr>\n",
       "    <tr>\n",
       "      <th>children</th>\n",
       "      <td>-0.149521</td>\n",
       "      <td>0.004529</td>\n",
       "      <td>1.000000</td>\n",
       "      <td>0.004803</td>\n",
       "      <td>-0.000280</td>\n",
       "      <td>-0.006571</td>\n",
       "      <td>-0.055478</td>\n",
       "      <td>NaN</td>\n",
       "      <td>-0.057831</td>\n",
       "      <td>-0.043309</td>\n",
       "    </tr>\n",
       "    <tr>\n",
       "      <th>Claim_Amount</th>\n",
       "      <td>0.070468</td>\n",
       "      <td>-0.007295</td>\n",
       "      <td>0.004803</td>\n",
       "      <td>1.000000</td>\n",
       "      <td>0.050640</td>\n",
       "      <td>0.171150</td>\n",
       "      <td>0.032715</td>\n",
       "      <td>NaN</td>\n",
       "      <td>0.138483</td>\n",
       "      <td>0.168353</td>\n",
       "    </tr>\n",
       "    <tr>\n",
       "      <th>past_consultations</th>\n",
       "      <td>0.129324</td>\n",
       "      <td>-0.014772</td>\n",
       "      <td>-0.000280</td>\n",
       "      <td>0.050640</td>\n",
       "      <td>1.000000</td>\n",
       "      <td>0.251344</td>\n",
       "      <td>0.098304</td>\n",
       "      <td>NaN</td>\n",
       "      <td>0.248714</td>\n",
       "      <td>0.260292</td>\n",
       "    </tr>\n",
       "    <tr>\n",
       "      <th>num_of_steps</th>\n",
       "      <td>0.649893</td>\n",
       "      <td>0.033153</td>\n",
       "      <td>-0.006571</td>\n",
       "      <td>0.171150</td>\n",
       "      <td>0.251344</td>\n",
       "      <td>1.000000</td>\n",
       "      <td>0.324054</td>\n",
       "      <td>NaN</td>\n",
       "      <td>0.835538</td>\n",
       "      <td>0.957156</td>\n",
       "    </tr>\n",
       "    <tr>\n",
       "      <th>Hospital_expenditure</th>\n",
       "      <td>0.120945</td>\n",
       "      <td>0.005874</td>\n",
       "      <td>-0.055478</td>\n",
       "      <td>0.032715</td>\n",
       "      <td>0.098304</td>\n",
       "      <td>0.324054</td>\n",
       "      <td>1.000000</td>\n",
       "      <td>NaN</td>\n",
       "      <td>0.374527</td>\n",
       "      <td>0.368732</td>\n",
       "    </tr>\n",
       "    <tr>\n",
       "      <th>NUmber_of_past_hospitalizations</th>\n",
       "      <td>NaN</td>\n",
       "      <td>NaN</td>\n",
       "      <td>NaN</td>\n",
       "      <td>NaN</td>\n",
       "      <td>NaN</td>\n",
       "      <td>NaN</td>\n",
       "      <td>NaN</td>\n",
       "      <td>NaN</td>\n",
       "      <td>NaN</td>\n",
       "      <td>NaN</td>\n",
       "    </tr>\n",
       "    <tr>\n",
       "      <th>Anual_Salary</th>\n",
       "      <td>0.400155</td>\n",
       "      <td>-0.010409</td>\n",
       "      <td>-0.057831</td>\n",
       "      <td>0.138483</td>\n",
       "      <td>0.248714</td>\n",
       "      <td>0.835538</td>\n",
       "      <td>0.374527</td>\n",
       "      <td>NaN</td>\n",
       "      <td>1.000000</td>\n",
       "      <td>0.916169</td>\n",
       "    </tr>\n",
       "    <tr>\n",
       "      <th>charges</th>\n",
       "      <td>0.553349</td>\n",
       "      <td>-0.000971</td>\n",
       "      <td>-0.043309</td>\n",
       "      <td>0.168353</td>\n",
       "      <td>0.260292</td>\n",
       "      <td>0.957156</td>\n",
       "      <td>0.368732</td>\n",
       "      <td>NaN</td>\n",
       "      <td>0.916169</td>\n",
       "      <td>1.000000</td>\n",
       "    </tr>\n",
       "  </tbody>\n",
       "</table>\n",
       "</div>"
      ],
      "text/plain": [
       "                                      age       bmi  children  Claim_Amount  \\\n",
       "age                              1.000000  0.184327 -0.149521      0.070468   \n",
       "bmi                              0.184327  1.000000  0.004529     -0.007295   \n",
       "children                        -0.149521  0.004529  1.000000      0.004803   \n",
       "Claim_Amount                     0.070468 -0.007295  0.004803      1.000000   \n",
       "past_consultations               0.129324 -0.014772 -0.000280      0.050640   \n",
       "num_of_steps                     0.649893  0.033153 -0.006571      0.171150   \n",
       "Hospital_expenditure             0.120945  0.005874 -0.055478      0.032715   \n",
       "NUmber_of_past_hospitalizations       NaN       NaN       NaN           NaN   \n",
       "Anual_Salary                     0.400155 -0.010409 -0.057831      0.138483   \n",
       "charges                          0.553349 -0.000971 -0.043309      0.168353   \n",
       "\n",
       "                                 past_consultations  num_of_steps  \\\n",
       "age                                        0.129324      0.649893   \n",
       "bmi                                       -0.014772      0.033153   \n",
       "children                                  -0.000280     -0.006571   \n",
       "Claim_Amount                               0.050640      0.171150   \n",
       "past_consultations                         1.000000      0.251344   \n",
       "num_of_steps                               0.251344      1.000000   \n",
       "Hospital_expenditure                       0.098304      0.324054   \n",
       "NUmber_of_past_hospitalizations                 NaN           NaN   \n",
       "Anual_Salary                               0.248714      0.835538   \n",
       "charges                                    0.260292      0.957156   \n",
       "\n",
       "                                 Hospital_expenditure  \\\n",
       "age                                          0.120945   \n",
       "bmi                                          0.005874   \n",
       "children                                    -0.055478   \n",
       "Claim_Amount                                 0.032715   \n",
       "past_consultations                           0.098304   \n",
       "num_of_steps                                 0.324054   \n",
       "Hospital_expenditure                         1.000000   \n",
       "NUmber_of_past_hospitalizations                   NaN   \n",
       "Anual_Salary                                 0.374527   \n",
       "charges                                      0.368732   \n",
       "\n",
       "                                 NUmber_of_past_hospitalizations  \\\n",
       "age                                                          NaN   \n",
       "bmi                                                          NaN   \n",
       "children                                                     NaN   \n",
       "Claim_Amount                                                 NaN   \n",
       "past_consultations                                           NaN   \n",
       "num_of_steps                                                 NaN   \n",
       "Hospital_expenditure                                         NaN   \n",
       "NUmber_of_past_hospitalizations                              NaN   \n",
       "Anual_Salary                                                 NaN   \n",
       "charges                                                      NaN   \n",
       "\n",
       "                                 Anual_Salary   charges  \n",
       "age                                  0.400155  0.553349  \n",
       "bmi                                 -0.010409 -0.000971  \n",
       "children                            -0.057831 -0.043309  \n",
       "Claim_Amount                         0.138483  0.168353  \n",
       "past_consultations                   0.248714  0.260292  \n",
       "num_of_steps                         0.835538  0.957156  \n",
       "Hospital_expenditure                 0.374527  0.368732  \n",
       "NUmber_of_past_hospitalizations           NaN       NaN  \n",
       "Anual_Salary                         1.000000  0.916169  \n",
       "charges                              0.916169  1.000000  "
      ]
     },
     "execution_count": 22,
     "metadata": {},
     "output_type": "execute_result"
    }
   ],
   "source": [
    "data.corr()"
   ]
  },
  {
   "cell_type": "code",
   "execution_count": 23,
   "id": "46d9b4b3",
   "metadata": {},
   "outputs": [],
   "source": [
    "# VIF should be minimum to have min multi-collinearity\n",
    "# VIF<=6\n",
    "col_lst=[]\n",
    "for i in col:\n",
    "    if (data[i].dtypes!=\"object\") & (i !=\"charges\") & (i != \"NUmber_of_past_hospitalizations\"):\n",
    "        col_lst.append(i)\n"
   ]
  },
  {
   "cell_type": "code",
   "execution_count": 24,
   "id": "49d538aa",
   "metadata": {},
   "outputs": [
    {
     "data": {
      "text/plain": [
       "['age',\n",
       " 'bmi',\n",
       " 'children',\n",
       " 'Claim_Amount',\n",
       " 'past_consultations',\n",
       " 'num_of_steps',\n",
       " 'Hospital_expenditure',\n",
       " 'Anual_Salary']"
      ]
     },
     "execution_count": 24,
     "metadata": {},
     "output_type": "execute_result"
    }
   ],
   "source": [
    "col_lst"
   ]
  },
  {
   "cell_type": "code",
   "execution_count": 25,
   "id": "81c8f092",
   "metadata": {},
   "outputs": [],
   "source": [
    "from statsmodels.stats.outliers_influence import variance_inflation_factor"
   ]
  },
  {
   "cell_type": "code",
   "execution_count": 26,
   "id": "e5343b3e",
   "metadata": {},
   "outputs": [],
   "source": [
    "x=data[col_lst]"
   ]
  },
  {
   "cell_type": "code",
   "execution_count": 27,
   "id": "3b6c3fa6",
   "metadata": {},
   "outputs": [
    {
     "data": {
      "text/html": [
       "<div>\n",
       "<style scoped>\n",
       "    .dataframe tbody tr th:only-of-type {\n",
       "        vertical-align: middle;\n",
       "    }\n",
       "\n",
       "    .dataframe tbody tr th {\n",
       "        vertical-align: top;\n",
       "    }\n",
       "\n",
       "    .dataframe thead th {\n",
       "        text-align: right;\n",
       "    }\n",
       "</style>\n",
       "<table border=\"1\" class=\"dataframe\">\n",
       "  <thead>\n",
       "    <tr style=\"text-align: right;\">\n",
       "      <th></th>\n",
       "      <th>age</th>\n",
       "      <th>bmi</th>\n",
       "      <th>children</th>\n",
       "      <th>Claim_Amount</th>\n",
       "      <th>past_consultations</th>\n",
       "      <th>num_of_steps</th>\n",
       "      <th>Hospital_expenditure</th>\n",
       "      <th>Anual_Salary</th>\n",
       "    </tr>\n",
       "  </thead>\n",
       "  <tbody>\n",
       "    <tr>\n",
       "      <th>151</th>\n",
       "      <td>25.0</td>\n",
       "      <td>27.550</td>\n",
       "      <td>0.0</td>\n",
       "      <td>39148.95495</td>\n",
       "      <td>10.0</td>\n",
       "      <td>780652.0</td>\n",
       "      <td>8.614147e+06</td>\n",
       "      <td>5.452601e+07</td>\n",
       "    </tr>\n",
       "    <tr>\n",
       "      <th>152</th>\n",
       "      <td>22.0</td>\n",
       "      <td>20.235</td>\n",
       "      <td>0.0</td>\n",
       "      <td>41547.52536</td>\n",
       "      <td>13.0</td>\n",
       "      <td>802627.0</td>\n",
       "      <td>2.491594e+05</td>\n",
       "      <td>1.671847e+07</td>\n",
       "    </tr>\n",
       "    <tr>\n",
       "      <th>153</th>\n",
       "      <td>25.0</td>\n",
       "      <td>35.625</td>\n",
       "      <td>0.0</td>\n",
       "      <td>39660.60193</td>\n",
       "      <td>12.0</td>\n",
       "      <td>770773.0</td>\n",
       "      <td>3.043323e+06</td>\n",
       "      <td>4.852694e+07</td>\n",
       "    </tr>\n",
       "    <tr>\n",
       "      <th>154</th>\n",
       "      <td>20.0</td>\n",
       "      <td>31.130</td>\n",
       "      <td>2.0</td>\n",
       "      <td>16032.87148</td>\n",
       "      <td>7.0</td>\n",
       "      <td>769255.0</td>\n",
       "      <td>1.599069e+06</td>\n",
       "      <td>2.441262e+07</td>\n",
       "    </tr>\n",
       "    <tr>\n",
       "      <th>155</th>\n",
       "      <td>21.0</td>\n",
       "      <td>17.400</td>\n",
       "      <td>1.0</td>\n",
       "      <td>31090.98977</td>\n",
       "      <td>21.0</td>\n",
       "      <td>778769.0</td>\n",
       "      <td>3.015365e+06</td>\n",
       "      <td>5.853579e+07</td>\n",
       "    </tr>\n",
       "    <tr>\n",
       "      <th>...</th>\n",
       "      <td>...</td>\n",
       "      <td>...</td>\n",
       "      <td>...</td>\n",
       "      <td>...</td>\n",
       "      <td>...</td>\n",
       "      <td>...</td>\n",
       "      <td>...</td>\n",
       "      <td>...</td>\n",
       "    </tr>\n",
       "    <tr>\n",
       "      <th>1046</th>\n",
       "      <td>29.0</td>\n",
       "      <td>27.940</td>\n",
       "      <td>1.0</td>\n",
       "      <td>51168.25474</td>\n",
       "      <td>23.0</td>\n",
       "      <td>993751.0</td>\n",
       "      <td>1.665982e+07</td>\n",
       "      <td>3.712188e+08</td>\n",
       "    </tr>\n",
       "    <tr>\n",
       "      <th>1048</th>\n",
       "      <td>31.0</td>\n",
       "      <td>25.900</td>\n",
       "      <td>3.0</td>\n",
       "      <td>46619.40230</td>\n",
       "      <td>27.0</td>\n",
       "      <td>989387.0</td>\n",
       "      <td>1.361938e+07</td>\n",
       "      <td>3.812895e+08</td>\n",
       "    </tr>\n",
       "    <tr>\n",
       "      <th>1050</th>\n",
       "      <td>31.0</td>\n",
       "      <td>29.810</td>\n",
       "      <td>0.0</td>\n",
       "      <td>24382.58056</td>\n",
       "      <td>21.0</td>\n",
       "      <td>973924.0</td>\n",
       "      <td>1.028991e+07</td>\n",
       "      <td>3.745310e+08</td>\n",
       "    </tr>\n",
       "    <tr>\n",
       "      <th>1062</th>\n",
       "      <td>43.0</td>\n",
       "      <td>20.045</td>\n",
       "      <td>2.0</td>\n",
       "      <td>21596.43846</td>\n",
       "      <td>10.0</td>\n",
       "      <td>994419.0</td>\n",
       "      <td>1.083030e+07</td>\n",
       "      <td>3.696849e+08</td>\n",
       "    </tr>\n",
       "    <tr>\n",
       "      <th>1069</th>\n",
       "      <td>35.0</td>\n",
       "      <td>28.025</td>\n",
       "      <td>0.0</td>\n",
       "      <td>17200.14586</td>\n",
       "      <td>15.0</td>\n",
       "      <td>993979.0</td>\n",
       "      <td>1.247744e+07</td>\n",
       "      <td>3.696849e+08</td>\n",
       "    </tr>\n",
       "  </tbody>\n",
       "</table>\n",
       "<p>881 rows × 8 columns</p>\n",
       "</div>"
      ],
      "text/plain": [
       "       age     bmi  children  Claim_Amount  past_consultations  num_of_steps  \\\n",
       "151   25.0  27.550       0.0   39148.95495                10.0      780652.0   \n",
       "152   22.0  20.235       0.0   41547.52536                13.0      802627.0   \n",
       "153   25.0  35.625       0.0   39660.60193                12.0      770773.0   \n",
       "154   20.0  31.130       2.0   16032.87148                 7.0      769255.0   \n",
       "155   21.0  17.400       1.0   31090.98977                21.0      778769.0   \n",
       "...    ...     ...       ...           ...                 ...           ...   \n",
       "1046  29.0  27.940       1.0   51168.25474                23.0      993751.0   \n",
       "1048  31.0  25.900       3.0   46619.40230                27.0      989387.0   \n",
       "1050  31.0  29.810       0.0   24382.58056                21.0      973924.0   \n",
       "1062  43.0  20.045       2.0   21596.43846                10.0      994419.0   \n",
       "1069  35.0  28.025       0.0   17200.14586                15.0      993979.0   \n",
       "\n",
       "      Hospital_expenditure  Anual_Salary  \n",
       "151           8.614147e+06  5.452601e+07  \n",
       "152           2.491594e+05  1.671847e+07  \n",
       "153           3.043323e+06  4.852694e+07  \n",
       "154           1.599069e+06  2.441262e+07  \n",
       "155           3.015365e+06  5.853579e+07  \n",
       "...                    ...           ...  \n",
       "1046          1.665982e+07  3.712188e+08  \n",
       "1048          1.361938e+07  3.812895e+08  \n",
       "1050          1.028991e+07  3.745310e+08  \n",
       "1062          1.083030e+07  3.696849e+08  \n",
       "1069          1.247744e+07  3.696849e+08  \n",
       "\n",
       "[881 rows x 8 columns]"
      ]
     },
     "execution_count": 27,
     "metadata": {},
     "output_type": "execute_result"
    }
   ],
   "source": [
    "x"
   ]
  },
  {
   "cell_type": "code",
   "execution_count": 28,
   "id": "073a2283",
   "metadata": {},
   "outputs": [],
   "source": [
    "y=data[\"charges\"]"
   ]
  },
  {
   "cell_type": "code",
   "execution_count": 29,
   "id": "9132603a",
   "metadata": {},
   "outputs": [
    {
     "data": {
      "text/plain": [
       "151      2523.16950\n",
       "152      2527.81865\n",
       "153      2534.39375\n",
       "154      2566.47070\n",
       "155      2585.26900\n",
       "           ...     \n",
       "1046    19107.77960\n",
       "1048    19199.94400\n",
       "1050    19350.36890\n",
       "1062    19798.05455\n",
       "1069    20234.85475\n",
       "Name: charges, Length: 881, dtype: float64"
      ]
     },
     "execution_count": 29,
     "metadata": {},
     "output_type": "execute_result"
    }
   ],
   "source": [
    "y"
   ]
  },
  {
   "cell_type": "code",
   "execution_count": 30,
   "id": "da509f31",
   "metadata": {},
   "outputs": [
    {
     "name": "stdout",
     "output_type": "stream",
     "text": [
      "0\n",
      "1\n",
      "2\n",
      "3\n",
      "4\n",
      "5\n",
      "6\n",
      "7\n"
     ]
    }
   ],
   "source": [
    "for i in range(len(col_lst)):\n",
    "    print(i)\n"
   ]
  },
  {
   "cell_type": "code",
   "execution_count": 31,
   "id": "326448d5",
   "metadata": {},
   "outputs": [
    {
     "data": {
      "text/plain": [
       "array([[2.50000000e+01, 2.75500000e+01, 0.00000000e+00, ...,\n",
       "        7.80652000e+05, 8.61414747e+06, 5.45260093e+07],\n",
       "       [2.20000000e+01, 2.02350000e+01, 0.00000000e+00, ...,\n",
       "        8.02627000e+05, 2.49159425e+05, 1.67184731e+07],\n",
       "       [2.50000000e+01, 3.56250000e+01, 0.00000000e+00, ...,\n",
       "        7.70773000e+05, 3.04332279e+06, 4.85269417e+07],\n",
       "       ...,\n",
       "       [3.10000000e+01, 2.98100000e+01, 0.00000000e+00, ...,\n",
       "        9.73924000e+05, 1.02899068e+07, 3.74530951e+08],\n",
       "       [4.30000000e+01, 2.00450000e+01, 2.00000000e+00, ...,\n",
       "        9.94419000e+05, 1.08303011e+07, 3.69684860e+08],\n",
       "       [3.50000000e+01, 2.80250000e+01, 0.00000000e+00, ...,\n",
       "        9.93979000e+05, 1.24774431e+07, 3.69684860e+08]])"
      ]
     },
     "execution_count": 31,
     "metadata": {},
     "output_type": "execute_result"
    }
   ],
   "source": [
    "x.values"
   ]
  },
  {
   "cell_type": "code",
   "execution_count": 32,
   "id": "21c600b9",
   "metadata": {},
   "outputs": [],
   "source": [
    "vif_data=pd.DataFrame()\n",
    "vif_data[\"Features\"]=x.columns\n",
    "vif_data[\"VIF_VALUE\"]= [variance_inflation_factor (x.values,i) for i in range(len(col_lst))]"
   ]
  },
  {
   "cell_type": "code",
   "execution_count": 33,
   "id": "166a4b31",
   "metadata": {},
   "outputs": [
    {
     "data": {
      "text/html": [
       "<div>\n",
       "<style scoped>\n",
       "    .dataframe tbody tr th:only-of-type {\n",
       "        vertical-align: middle;\n",
       "    }\n",
       "\n",
       "    .dataframe tbody tr th {\n",
       "        vertical-align: top;\n",
       "    }\n",
       "\n",
       "    .dataframe thead th {\n",
       "        text-align: right;\n",
       "    }\n",
       "</style>\n",
       "<table border=\"1\" class=\"dataframe\">\n",
       "  <thead>\n",
       "    <tr style=\"text-align: right;\">\n",
       "      <th></th>\n",
       "      <th>Features</th>\n",
       "      <th>VIF_VALUE</th>\n",
       "    </tr>\n",
       "  </thead>\n",
       "  <tbody>\n",
       "    <tr>\n",
       "      <th>0</th>\n",
       "      <td>age</td>\n",
       "      <td>16.357708</td>\n",
       "    </tr>\n",
       "    <tr>\n",
       "      <th>1</th>\n",
       "      <td>bmi</td>\n",
       "      <td>26.868143</td>\n",
       "    </tr>\n",
       "    <tr>\n",
       "      <th>2</th>\n",
       "      <td>children</td>\n",
       "      <td>2.069345</td>\n",
       "    </tr>\n",
       "    <tr>\n",
       "      <th>3</th>\n",
       "      <td>Claim_Amount</td>\n",
       "      <td>5.864753</td>\n",
       "    </tr>\n",
       "    <tr>\n",
       "      <th>4</th>\n",
       "      <td>past_consultations</td>\n",
       "      <td>6.463488</td>\n",
       "    </tr>\n",
       "    <tr>\n",
       "      <th>5</th>\n",
       "      <td>num_of_steps</td>\n",
       "      <td>58.376344</td>\n",
       "    </tr>\n",
       "    <tr>\n",
       "      <th>6</th>\n",
       "      <td>Hospital_expenditure</td>\n",
       "      <td>5.423018</td>\n",
       "    </tr>\n",
       "    <tr>\n",
       "      <th>7</th>\n",
       "      <td>Anual_Salary</td>\n",
       "      <td>6.000703</td>\n",
       "    </tr>\n",
       "  </tbody>\n",
       "</table>\n",
       "</div>"
      ],
      "text/plain": [
       "               Features  VIF_VALUE\n",
       "0                   age  16.357708\n",
       "1                   bmi  26.868143\n",
       "2              children   2.069345\n",
       "3          Claim_Amount   5.864753\n",
       "4    past_consultations   6.463488\n",
       "5          num_of_steps  58.376344\n",
       "6  Hospital_expenditure   5.423018\n",
       "7          Anual_Salary   6.000703"
      ]
     },
     "execution_count": 33,
     "metadata": {},
     "output_type": "execute_result"
    }
   ],
   "source": [
    "vif_data"
   ]
  },
  {
   "cell_type": "code",
   "execution_count": 34,
   "id": "2cf33235",
   "metadata": {},
   "outputs": [],
   "source": [
    "for i in range(len(col_lst)):\n",
    "    vif_data[\"VIF\"]=[variance_inflation_factor (x.values,i) for i in range(len(col_lst))]"
   ]
  },
  {
   "cell_type": "code",
   "execution_count": 35,
   "id": "d6c600b0",
   "metadata": {},
   "outputs": [
    {
     "data": {
      "text/html": [
       "<div>\n",
       "<style scoped>\n",
       "    .dataframe tbody tr th:only-of-type {\n",
       "        vertical-align: middle;\n",
       "    }\n",
       "\n",
       "    .dataframe tbody tr th {\n",
       "        vertical-align: top;\n",
       "    }\n",
       "\n",
       "    .dataframe thead th {\n",
       "        text-align: right;\n",
       "    }\n",
       "</style>\n",
       "<table border=\"1\" class=\"dataframe\">\n",
       "  <thead>\n",
       "    <tr style=\"text-align: right;\">\n",
       "      <th></th>\n",
       "      <th>Features</th>\n",
       "      <th>VIF_VALUE</th>\n",
       "      <th>VIF</th>\n",
       "    </tr>\n",
       "  </thead>\n",
       "  <tbody>\n",
       "    <tr>\n",
       "      <th>0</th>\n",
       "      <td>age</td>\n",
       "      <td>16.357708</td>\n",
       "      <td>16.357708</td>\n",
       "    </tr>\n",
       "    <tr>\n",
       "      <th>1</th>\n",
       "      <td>bmi</td>\n",
       "      <td>26.868143</td>\n",
       "      <td>26.868143</td>\n",
       "    </tr>\n",
       "    <tr>\n",
       "      <th>2</th>\n",
       "      <td>children</td>\n",
       "      <td>2.069345</td>\n",
       "      <td>2.069345</td>\n",
       "    </tr>\n",
       "    <tr>\n",
       "      <th>3</th>\n",
       "      <td>Claim_Amount</td>\n",
       "      <td>5.864753</td>\n",
       "      <td>5.864753</td>\n",
       "    </tr>\n",
       "    <tr>\n",
       "      <th>4</th>\n",
       "      <td>past_consultations</td>\n",
       "      <td>6.463488</td>\n",
       "      <td>6.463488</td>\n",
       "    </tr>\n",
       "    <tr>\n",
       "      <th>5</th>\n",
       "      <td>num_of_steps</td>\n",
       "      <td>58.376344</td>\n",
       "      <td>58.376344</td>\n",
       "    </tr>\n",
       "    <tr>\n",
       "      <th>6</th>\n",
       "      <td>Hospital_expenditure</td>\n",
       "      <td>5.423018</td>\n",
       "      <td>5.423018</td>\n",
       "    </tr>\n",
       "    <tr>\n",
       "      <th>7</th>\n",
       "      <td>Anual_Salary</td>\n",
       "      <td>6.000703</td>\n",
       "      <td>6.000703</td>\n",
       "    </tr>\n",
       "  </tbody>\n",
       "</table>\n",
       "</div>"
      ],
      "text/plain": [
       "               Features  VIF_VALUE        VIF\n",
       "0                   age  16.357708  16.357708\n",
       "1                   bmi  26.868143  26.868143\n",
       "2              children   2.069345   2.069345\n",
       "3          Claim_Amount   5.864753   5.864753\n",
       "4    past_consultations   6.463488   6.463488\n",
       "5          num_of_steps  58.376344  58.376344\n",
       "6  Hospital_expenditure   5.423018   5.423018\n",
       "7          Anual_Salary   6.000703   6.000703"
      ]
     },
     "execution_count": 35,
     "metadata": {},
     "output_type": "execute_result"
    }
   ],
   "source": [
    "vif_data"
   ]
  },
  {
   "cell_type": "code",
   "execution_count": 36,
   "id": "a0999768",
   "metadata": {},
   "outputs": [],
   "source": [
    "data=data.drop([\"num_of_steps\"], axis=1)"
   ]
  },
  {
   "cell_type": "code",
   "execution_count": 37,
   "id": "ee6613a6",
   "metadata": {},
   "outputs": [
    {
     "name": "stdout",
     "output_type": "stream",
     "text": [
      "               Features        VIF\n",
      "0                   age  13.550906\n",
      "1                   bmi  14.522848\n",
      "2              children   1.954239\n",
      "3          Claim_Amount   5.319321\n",
      "4    past_consultations   5.957746\n",
      "5  Hospital_expenditure   5.142291\n",
      "6          Anual_Salary   5.783595\n"
     ]
    }
   ],
   "source": [
    "col=list(data.columns)\n",
    "col_lst=[]\n",
    "for i in col:\n",
    "    if (data[i].dtypes!=\"object\") & (i !=\"charges\") & (i != \"NUmber_of_past_hospitalizations\"):\n",
    "        col_lst.append(i)\n",
    "        \n",
    "x=data[col_lst]\n",
    "y=data[\"charges\"]\n",
    "vif_data=pd.DataFrame()\n",
    "vif_data[\"Features\"]=x.columns\n",
    "vif_data[\"VIF\"]=[variance_inflation_factor(x.values,i) for i in range(len(col_lst))]\n",
    "print(vif_data)"
   ]
  },
  {
   "cell_type": "code",
   "execution_count": 38,
   "id": "4951fa72",
   "metadata": {},
   "outputs": [],
   "source": [
    "data=data.drop([\"bmi\"], axis=1)"
   ]
  },
  {
   "cell_type": "code",
   "execution_count": 39,
   "id": "273f3590",
   "metadata": {},
   "outputs": [
    {
     "name": "stdout",
     "output_type": "stream",
     "text": [
      "               Features       VIF\n",
      "0                   age  8.803866\n",
      "1              children  1.835999\n",
      "2          Claim_Amount  4.912972\n",
      "3    past_consultations  5.613220\n",
      "4  Hospital_expenditure  4.840950\n",
      "5          Anual_Salary  5.636699\n"
     ]
    }
   ],
   "source": [
    "col=list(data.columns)\n",
    "col_lst=[]\n",
    "for i in col:\n",
    "    if (data[i].dtypes!=\"object\") & (i !=\"charges\") & (i != \"NUmber_of_past_hospitalizations\"):\n",
    "        col_lst.append(i)\n",
    "        \n",
    "x=data[col_lst]\n",
    "y=data[\"charges\"]\n",
    "vif_data=pd.DataFrame()\n",
    "vif_data[\"Features\"]=x.columns\n",
    "vif_data[\"VIF\"]=[variance_inflation_factor(x.values,i) for i in range(len(col_lst))]\n",
    "print(vif_data)"
   ]
  },
  {
   "cell_type": "code",
   "execution_count": 40,
   "id": "2034395b",
   "metadata": {},
   "outputs": [],
   "source": [
    "data=data.drop([\"age\"], axis=1)"
   ]
  },
  {
   "cell_type": "code",
   "execution_count": 41,
   "id": "05337c59",
   "metadata": {},
   "outputs": [
    {
     "name": "stdout",
     "output_type": "stream",
     "text": [
      "               Features       VIF\n",
      "0              children  1.827298\n",
      "1          Claim_Amount  4.290828\n",
      "2    past_consultations  4.942338\n",
      "3  Hospital_expenditure  4.624025\n",
      "4          Anual_Salary  4.922027\n"
     ]
    }
   ],
   "source": [
    "col=list(data.columns)\n",
    "col_lst=[]\n",
    "for i in col:\n",
    "    if (data[i].dtypes!=\"object\") & (i !=\"charges\") & (i != \"NUmber_of_past_hospitalizations\"):\n",
    "        col_lst.append(i)\n",
    "        \n",
    "x=data[col_lst]\n",
    "y=data[\"charges\"]\n",
    "vif_data=pd.DataFrame()\n",
    "vif_data[\"Features\"]=x.columns\n",
    "vif_data[\"VIF\"]=[variance_inflation_factor(x.values,i) for i in range(len(col_lst))]\n",
    "print(vif_data)"
   ]
  },
  {
   "cell_type": "code",
   "execution_count": 42,
   "id": "ea512f55",
   "metadata": {},
   "outputs": [],
   "source": [
    "X=data.loc[:,[\"children\",\"Claim_Amount\",\"past_consultations\",\"Hospital_expenditure\",\"Anual_Salary\"]]\n",
    "Y=data.loc[:,[\"charges\"]]"
   ]
  },
  {
   "cell_type": "code",
   "execution_count": 43,
   "id": "544d29fa",
   "metadata": {},
   "outputs": [],
   "source": [
    "x_train,x_test,y_train,y_test=train_test_split(X,Y,train_size=0.8, random_state=1)"
   ]
  },
  {
   "cell_type": "code",
   "execution_count": 44,
   "id": "1882d9ed",
   "metadata": {},
   "outputs": [],
   "source": [
    "L_model=LinearRegression()"
   ]
  },
  {
   "cell_type": "code",
   "execution_count": 45,
   "id": "63b3aef4",
   "metadata": {},
   "outputs": [
    {
     "data": {
      "text/plain": [
       "LinearRegression()"
      ]
     },
     "execution_count": 45,
     "metadata": {},
     "output_type": "execute_result"
    }
   ],
   "source": [
    "L_model.fit(x_train,y_train)"
   ]
  },
  {
   "cell_type": "code",
   "execution_count": 46,
   "id": "a8fec027",
   "metadata": {},
   "outputs": [],
   "source": [
    "predict_y=L_model.predict(x_test)"
   ]
  },
  {
   "cell_type": "code",
   "execution_count": 47,
   "id": "e5b89362",
   "metadata": {},
   "outputs": [],
   "source": [
    "err=y_test-predict_y"
   ]
  },
  {
   "cell_type": "code",
   "execution_count": 48,
   "id": "8ee3c747",
   "metadata": {},
   "outputs": [
    {
     "data": {
      "text/html": [
       "<div>\n",
       "<style scoped>\n",
       "    .dataframe tbody tr th:only-of-type {\n",
       "        vertical-align: middle;\n",
       "    }\n",
       "\n",
       "    .dataframe tbody tr th {\n",
       "        vertical-align: top;\n",
       "    }\n",
       "\n",
       "    .dataframe thead th {\n",
       "        text-align: right;\n",
       "    }\n",
       "</style>\n",
       "<table border=\"1\" class=\"dataframe\">\n",
       "  <thead>\n",
       "    <tr style=\"text-align: right;\">\n",
       "      <th></th>\n",
       "      <th>charges</th>\n",
       "    </tr>\n",
       "  </thead>\n",
       "  <tbody>\n",
       "    <tr>\n",
       "      <th>154</th>\n",
       "      <td>-492.729886</td>\n",
       "    </tr>\n",
       "    <tr>\n",
       "      <th>671</th>\n",
       "      <td>147.497003</td>\n",
       "    </tr>\n",
       "    <tr>\n",
       "      <th>408</th>\n",
       "      <td>29.159803</td>\n",
       "    </tr>\n",
       "    <tr>\n",
       "      <th>956</th>\n",
       "      <td>1019.521627</td>\n",
       "    </tr>\n",
       "    <tr>\n",
       "      <th>1021</th>\n",
       "      <td>634.814194</td>\n",
       "    </tr>\n",
       "    <tr>\n",
       "      <th>...</th>\n",
       "      <td>...</td>\n",
       "    </tr>\n",
       "    <tr>\n",
       "      <th>624</th>\n",
       "      <td>874.989196</td>\n",
       "    </tr>\n",
       "    <tr>\n",
       "      <th>876</th>\n",
       "      <td>1184.444022</td>\n",
       "    </tr>\n",
       "    <tr>\n",
       "      <th>842</th>\n",
       "      <td>174.764848</td>\n",
       "    </tr>\n",
       "    <tr>\n",
       "      <th>835</th>\n",
       "      <td>3210.260230</td>\n",
       "    </tr>\n",
       "    <tr>\n",
       "      <th>831</th>\n",
       "      <td>1066.040675</td>\n",
       "    </tr>\n",
       "  </tbody>\n",
       "</table>\n",
       "<p>177 rows × 1 columns</p>\n",
       "</div>"
      ],
      "text/plain": [
       "          charges\n",
       "154   -492.729886\n",
       "671    147.497003\n",
       "408     29.159803\n",
       "956   1019.521627\n",
       "1021   634.814194\n",
       "...           ...\n",
       "624    874.989196\n",
       "876   1184.444022\n",
       "842    174.764848\n",
       "835   3210.260230\n",
       "831   1066.040675\n",
       "\n",
       "[177 rows x 1 columns]"
      ]
     },
     "execution_count": 48,
     "metadata": {},
     "output_type": "execute_result"
    }
   ],
   "source": [
    "err"
   ]
  },
  {
   "cell_type": "code",
   "execution_count": 49,
   "id": "3a47b992",
   "metadata": {},
   "outputs": [],
   "source": [
    "# or we can write in decorative way\n",
    "err_data=pd.DataFrame()"
   ]
  },
  {
   "cell_type": "code",
   "execution_count": 50,
   "id": "89ae9268",
   "metadata": {},
   "outputs": [],
   "source": [
    "err_data[\"Original Test Data\"]=y_test\n",
    "err_data[\"Predicted Data\"]=predict_y\n",
    "err_data[\"Error\"]=y_test-predict_y"
   ]
  },
  {
   "cell_type": "code",
   "execution_count": 51,
   "id": "d53d8cd3",
   "metadata": {},
   "outputs": [
    {
     "data": {
      "text/html": [
       "<div>\n",
       "<style scoped>\n",
       "    .dataframe tbody tr th:only-of-type {\n",
       "        vertical-align: middle;\n",
       "    }\n",
       "\n",
       "    .dataframe tbody tr th {\n",
       "        vertical-align: top;\n",
       "    }\n",
       "\n",
       "    .dataframe thead th {\n",
       "        text-align: right;\n",
       "    }\n",
       "</style>\n",
       "<table border=\"1\" class=\"dataframe\">\n",
       "  <thead>\n",
       "    <tr style=\"text-align: right;\">\n",
       "      <th></th>\n",
       "      <th>Original Test Data</th>\n",
       "      <th>Predicted Data</th>\n",
       "      <th>Error</th>\n",
       "    </tr>\n",
       "  </thead>\n",
       "  <tbody>\n",
       "    <tr>\n",
       "      <th>154</th>\n",
       "      <td>2566.47070</td>\n",
       "      <td>3059.200586</td>\n",
       "      <td>-492.729886</td>\n",
       "    </tr>\n",
       "    <tr>\n",
       "      <th>671</th>\n",
       "      <td>9411.00500</td>\n",
       "      <td>9263.507997</td>\n",
       "      <td>147.497003</td>\n",
       "    </tr>\n",
       "    <tr>\n",
       "      <th>408</th>\n",
       "      <td>5662.22500</td>\n",
       "      <td>5633.065197</td>\n",
       "      <td>29.159803</td>\n",
       "    </tr>\n",
       "    <tr>\n",
       "      <th>956</th>\n",
       "      <td>14254.60820</td>\n",
       "      <td>13235.086573</td>\n",
       "      <td>1019.521627</td>\n",
       "    </tr>\n",
       "    <tr>\n",
       "      <th>1021</th>\n",
       "      <td>17878.90068</td>\n",
       "      <td>17244.086486</td>\n",
       "      <td>634.814194</td>\n",
       "    </tr>\n",
       "    <tr>\n",
       "      <th>...</th>\n",
       "      <td>...</td>\n",
       "      <td>...</td>\n",
       "      <td>...</td>\n",
       "    </tr>\n",
       "    <tr>\n",
       "      <th>624</th>\n",
       "      <td>8615.30000</td>\n",
       "      <td>7740.310804</td>\n",
       "      <td>874.989196</td>\n",
       "    </tr>\n",
       "    <tr>\n",
       "      <th>876</th>\n",
       "      <td>12557.60530</td>\n",
       "      <td>11373.161278</td>\n",
       "      <td>1184.444022</td>\n",
       "    </tr>\n",
       "    <tr>\n",
       "      <th>842</th>\n",
       "      <td>11944.59435</td>\n",
       "      <td>11769.829502</td>\n",
       "      <td>174.764848</td>\n",
       "    </tr>\n",
       "    <tr>\n",
       "      <th>835</th>\n",
       "      <td>11856.41150</td>\n",
       "      <td>8646.151270</td>\n",
       "      <td>3210.260230</td>\n",
       "    </tr>\n",
       "    <tr>\n",
       "      <th>831</th>\n",
       "      <td>11840.77505</td>\n",
       "      <td>10774.734375</td>\n",
       "      <td>1066.040675</td>\n",
       "    </tr>\n",
       "  </tbody>\n",
       "</table>\n",
       "<p>177 rows × 3 columns</p>\n",
       "</div>"
      ],
      "text/plain": [
       "      Original Test Data  Predicted Data        Error\n",
       "154           2566.47070     3059.200586  -492.729886\n",
       "671           9411.00500     9263.507997   147.497003\n",
       "408           5662.22500     5633.065197    29.159803\n",
       "956          14254.60820    13235.086573  1019.521627\n",
       "1021         17878.90068    17244.086486   634.814194\n",
       "...                  ...             ...          ...\n",
       "624           8615.30000     7740.310804   874.989196\n",
       "876          12557.60530    11373.161278  1184.444022\n",
       "842          11944.59435    11769.829502   174.764848\n",
       "835          11856.41150     8646.151270  3210.260230\n",
       "831          11840.77505    10774.734375  1066.040675\n",
       "\n",
       "[177 rows x 3 columns]"
      ]
     },
     "execution_count": 51,
     "metadata": {},
     "output_type": "execute_result"
    }
   ],
   "source": [
    "err_data"
   ]
  },
  {
   "cell_type": "code",
   "execution_count": 52,
   "id": "b2117201",
   "metadata": {},
   "outputs": [],
   "source": [
    "# Check Accuracy\n",
    "from sklearn.metrics import *"
   ]
  },
  {
   "cell_type": "code",
   "execution_count": 53,
   "id": "0c8ac23e",
   "metadata": {},
   "outputs": [],
   "source": [
    "r2score=r2_score(y_test,predict_y)"
   ]
  },
  {
   "cell_type": "code",
   "execution_count": 54,
   "id": "658be111",
   "metadata": {},
   "outputs": [
    {
     "data": {
      "text/plain": [
       "0.8609691103454213"
      ]
     },
     "execution_count": 54,
     "metadata": {},
     "output_type": "execute_result"
    }
   ],
   "source": [
    "r2score"
   ]
  },
  {
   "cell_type": "code",
   "execution_count": 55,
   "id": "400fb27f",
   "metadata": {},
   "outputs": [
    {
     "data": {
      "text/plain": [
       "1530.0649181740441"
      ]
     },
     "execution_count": 55,
     "metadata": {},
     "output_type": "execute_result"
    }
   ],
   "source": [
    "square_error=mean_squared_error(y_test,predict_y,squared=False)\n",
    "square_error"
   ]
  },
  {
   "cell_type": "code",
   "execution_count": 56,
   "id": "dbaa6775",
   "metadata": {},
   "outputs": [],
   "source": [
    "from sklearn.metrics import mean_absolute_percentage_error"
   ]
  },
  {
   "cell_type": "code",
   "execution_count": 57,
   "id": "1c5f384c",
   "metadata": {},
   "outputs": [
    {
     "data": {
      "text/plain": [
       "0.18812159119541727"
      ]
     },
     "execution_count": 57,
     "metadata": {},
     "output_type": "execute_result"
    }
   ],
   "source": [
    "map_error=mean_absolute_percentage_error(y_test,predict_y)\n",
    "map_error"
   ]
  },
  {
   "cell_type": "code",
   "execution_count": null,
   "id": "4e497226",
   "metadata": {},
   "outputs": [],
   "source": []
  }
 ],
 "metadata": {
  "kernelspec": {
   "display_name": "Python 3 (ipykernel)",
   "language": "python",
   "name": "python3"
  },
  "language_info": {
   "codemirror_mode": {
    "name": "ipython",
    "version": 3
   },
   "file_extension": ".py",
   "mimetype": "text/x-python",
   "name": "python",
   "nbconvert_exporter": "python",
   "pygments_lexer": "ipython3",
   "version": "3.9.12"
  }
 },
 "nbformat": 4,
 "nbformat_minor": 5
}
